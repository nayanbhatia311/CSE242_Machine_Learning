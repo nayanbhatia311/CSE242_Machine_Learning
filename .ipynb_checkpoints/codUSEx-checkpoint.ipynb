{
 "cells": [
  {
   "cell_type": "code",
   "execution_count": null,
   "metadata": {
    "colab": {
     "base_uri": "https://localhost:8080/"
    },
    "id": "UvNx-3b9J4ce",
    "outputId": "97367fc7-6fa7-4ad9-9873-fbe28c0ee62d"
   },
   "outputs": [],
   "source": [
    "import pandas as pd\n",
    "import seaborn as sns\n",
    "\n",
    "# read the data into a data frame\n",
    "data = pd.read_csv('codUS.csv')\n",
    "\n",
    "# Some data mining pre-processing techniques\n",
    "data = data.replace(',','', regex=True)\n",
    "data = data.astype({\"Deaths\": int, \"Year\": int})\n",
    "data.info()"
   ]
  },
  {
   "cell_type": "code",
   "execution_count": null,
   "metadata": {
    "colab": {
     "base_uri": "https://localhost:8080/",
     "height": 205
    },
    "id": "nqHm5OmSZcvZ",
    "outputId": "9e987797-a6fe-4c3b-f825-fb0ce701e81b"
   },
   "outputs": [],
   "source": [
    "# Set up Filter by State and Cause\n",
    "state1 = 'New York'\n",
    "cause = 'Suicide'\n",
    "\n",
    "# Apply the filter to the original data set\n",
    "filter = (data['State'] == state1) & (data['Cause Name'] == cause)\n",
    "data_filtered = data[filter]\n",
    "data_filtered.head()"
   ]
  },
  {
   "cell_type": "code",
   "execution_count": null,
   "metadata": {
    "colab": {
     "base_uri": "https://localhost:8080/",
     "height": 405
    },
    "id": "FkNlQBTeKiUW",
    "outputId": "b6a766d8-4721-4c53-ff94-fc67e18fc39d"
   },
   "outputs": [],
   "source": [
    "import matplotlib.pyplot as plt\n",
    "plt.figure(figsize=(12,6))\n",
    "sns.scatterplot(data=data_filtered, x='Year', y='Deaths', hue='State')"
   ]
  },
  {
   "cell_type": "markdown",
   "metadata": {
    "id": "zpwviCYseIJz"
   },
   "source": [
    "Apply Your Linear Regression To Predict 2018, 2019 and 2020.  Can you research and find the actuals for 2018, 2019 and 2020. How close was your prediction? "
   ]
  }
 ],
 "metadata": {
  "colab": {
   "collapsed_sections": [],
   "name": "codUSEx.ipynb",
   "provenance": []
  },
  "kernelspec": {
   "display_name": "Python 3",
   "language": "python",
   "name": "python3"
  },
  "language_info": {
   "codemirror_mode": {
    "name": "ipython",
    "version": 3
   },
   "file_extension": ".py",
   "mimetype": "text/x-python",
   "name": "python",
   "nbconvert_exporter": "python",
   "pygments_lexer": "ipython3",
   "version": "3.8.5"
  }
 },
 "nbformat": 4,
 "nbformat_minor": 1
}
