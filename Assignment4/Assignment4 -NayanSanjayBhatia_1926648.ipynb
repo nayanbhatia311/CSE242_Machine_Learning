{
 "cells": [
  {
   "cell_type": "markdown",
   "metadata": {},
   "source": [
    "<h1 align=\"center\"> CSE 242 Assignment 4, Fall 2021\n",
    "\n",
    "<h2 align=\"center\"> 2 Questions, 100 pts + 10 bonus pts, due: 23:59 pm, Nov 24th, 2021\n",
    "    \n",
    "    Your name: Nayan Sanjay Bhatia         Student ID: 1926648"
   ]
  },
  {
   "cell_type": "markdown",
   "metadata": {},
   "source": [
    "## Instruction \n",
    "\n",
    "- Submit your assignments onto **Gradescope** by the due date. Upload a <code>zip</code> file containing:\n",
    "\n",
    "    (1) The saved/latest <code>.ipynb</code> file, please **rename this file with your name included**.\n",
    "\n",
    "    (2) Also save your file into a pdf version, if error appears, save an html version instead (easy to grade for written questions).\n",
    "    \n",
    "    **For assignment related questions, please reach TA or grader through Slack/Piazza/Email.**\n",
    "    \n",
    "- This is an **individual** assignment. All help from others (from the web, books other than text, or people other than the TA or instructor) must be clearly acknowledged. \n",
    "\n",
    "## Objective \n",
    "\n",
    "- **Task 1:** Kernel Methods with Noisy Setting (Coding)\n",
    "- **Task 2:** Image Classification with Scikit-learn (Coding)"
   ]
  },
  {
   "cell_type": "markdown",
   "metadata": {},
   "source": [
    "# Question 1. (Kernel Methods with Noisy Setting, 60 pts)\n",
    "\n",
    "**SVM on synthetic dataset generated as follows:**\n",
    "\n",
    "- Draw $1000\\ (x_0, x_1)$ feature vectors from the 2-D Gaussian distribution with mean $\\mu_+ = (1,1)$ and $\\Sigma_+ = [1, 0; 0, 1]$ and label them as $+1$.\n",
    "\n",
    "- Draw $1000\\ (x_0, x_1)$ feature vectors from the 2-D Gaussian distribution with mean $\\mu_- = (-1,-1)$ and $\\Sigma_- = [3, 0; 0, 3]$ and label them as $-1$.\n",
    "    \n",
    "- This gives you a $2000$ example training set. Repeat the above to draw a test set the same way.\n",
    "\n",
    "Use a SVM package (I used scikit-learn's svm.SVC class) to learn SVMs with a variety of parameter settings. "
   ]
  },
  {
   "cell_type": "markdown",
   "metadata": {},
   "source": [
    "## (a -- 20 pts) \n",
    "\n",
    "- Use an RBF kernel with parameters $C=1$, $\\gamma = 0.01$. \n",
    "\n",
    "- For each training data with +1 label, randomly flip their label to -1 with probability $\\textbf{0.35}$.\n",
    "\n",
    "- For each training data with -1 label, randomly flip their label to +1 with probability $\\textbf{0.20}$.\n",
    "\n",
    "- Train with the above noisy training examples.\n",
    "\n",
    "- Random flipping introduces the randomness. You can repeat multiple times (e.g. 20) and then report the average accuracy on the testing dataset (clean) in the noise parameter setting. \n",
    "\n"
   ]
  },
  {
   "cell_type": "code",
   "execution_count": 48,
   "metadata": {},
   "outputs": [
    {
     "name": "stdout",
     "output_type": "stream",
     "text": [
      "Accuracy for noisy data: 80.955\n"
     ]
    }
   ],
   "source": [
    "# Your code here\n",
    "#generating +1 labels for training\n",
    "accuracy_avg_svm=0\n",
    "for i in range(50):\n",
    "\n",
    "    mean_positive=[1,1]\n",
    "    cov_positive=[[1,0],[0,1]]\n",
    "\n",
    "    import matplotlib.pyplot as plt\n",
    "    import numpy as np\n",
    "    from sklearn.svm import SVC\n",
    "    from sklearn.metrics import accuracy_score\n",
    "    import warnings\n",
    "    warnings.filterwarnings(\"ignore\")\n",
    "\n",
    "    x_train = np.random.multivariate_normal(mean_positive,cov_positive,1000)\n",
    "    y_train=np.ones(x_train.shape[0])\n",
    "    y_train=y_train.reshape(1000,1)\n",
    "\n",
    "\n",
    "    mean_negative=[-1,-1]\n",
    "    cov_negative=[[3,0],[0,3]]\n",
    "    #generating -1 labels for training\n",
    "\n",
    "    x_minus_train = np.random.multivariate_normal(mean_negative,cov_negative,1000)\n",
    "    y_minus_train=np.full(x_minus_train.shape[0],-1)\n",
    "    y_minus_train=y_minus_train.reshape(1000,1)\n",
    "#     print(y_minus_train.shape,y_train.shape)\n",
    "\n",
    "\n",
    "    #flipping +1 labels to -1\n",
    "    y_train_copy=y_train.copy()\n",
    "    for i in range(len(y_train)):\n",
    "        if np.random.choice([-1,1],p=[0.35,0.65])==-1:\n",
    "            y_train_copy[i]=-1\n",
    "#     print(np.unique(y_train_copy,return_counts=True))\n",
    "\n",
    "\n",
    "    #flipping -1 labels to 1\n",
    "    y_minus_train_copy=y_minus_train.copy()\n",
    "    for i in range(len(y_minus_train)):\n",
    "        if np.random.choice([1,-1],p=[0.2,0.8])==1:\n",
    "            y_minus_train_copy[i]=1\n",
    "#     print(np.unique(y_minus_train_copy,return_counts=True))\n",
    "\n",
    "\n",
    "    #fitting it on svm kernel with noisy sample data\n",
    "    svm_noisy = SVC(kernel='rbf', random_state=0, gamma=.01, C=1)\n",
    "    x_all_train=np.concatenate((x_train, x_minus_train), axis=0)\n",
    "    y_all_train=np.concatenate((y_train_copy, y_minus_train_copy))\n",
    "\n",
    "\n",
    "    svm_noisy.fit(x_all_train,y_all_train)\n",
    "\n",
    "\n",
    "    # Your code here\n",
    "    #generating +1 labels for testing\n",
    "    mean_positive=[1,1]\n",
    "    cov_positive=[[1,0],[0,1]]\n",
    "\n",
    "    x_test = np.random.multivariate_normal(mean_positive,cov_positive,1000)\n",
    "    y_test=np.ones(x_test.shape[0])\n",
    "    y_test=y_test.reshape(1000,1)\n",
    "\n",
    "\n",
    "\n",
    "    mean_negative=[-1,-1]\n",
    "    cov_negative=[[3,0],[0,3]]\n",
    "    #generating -1 labels for testing\n",
    "\n",
    "    x_minus_test = np.random.multivariate_normal(mean_negative,cov_negative,1000)\n",
    "    y_minus_test=np.full(x_minus_test.shape[0],-1)\n",
    "    y_minus_test=y_minus_test.reshape(1000,1)\n",
    "#     print(y_minus_test.shape,y_test.shape)\n",
    "\n",
    "\n",
    "\n",
    "    x_all_test=np.concatenate((x_test, x_minus_test), axis=0)\n",
    "    y_all_test=np.concatenate((y_test, y_minus_test))\n",
    "\n",
    "\n",
    "    y_noisy_pred=svm_noisy.predict(x_all_test)\n",
    "    accuracy_avg_svm+=accuracy_score(y_all_test, y_noisy_pred)*100\n",
    "accuracy_avg_svm/=50\n",
    "print(f\"Accuracy for noisy data: {accuracy_avg_svm}\")\n"
   ]
  },
  {
   "cell_type": "code",
   "execution_count": 49,
   "metadata": {},
   "outputs": [
    {
     "data": {
      "text/plain": [
       "3"
      ]
     },
     "execution_count": 49,
     "metadata": {},
     "output_type": "execute_result"
    }
   ],
   "source": [
    "\n",
    "    \n",
    "np.random.choice([3,-3],p=[0.4,0.6])"
   ]
  },
  {
   "cell_type": "code",
   "execution_count": 50,
   "metadata": {},
   "outputs": [],
   "source": [
    "\n",
    "# plt.plot(x_minus[0],x_minus[1],'x'); plt.axis('equal'); plt.show()"
   ]
  },
  {
   "cell_type": "markdown",
   "metadata": {},
   "source": [
    "## (b -- 20 pts) Open question\n",
    "\n",
    "- Try using **K-Nearst Neighbors** to correct wrong labels before training. \n",
    "\n",
    "- Then train the model with the newly processed training dataset. \n",
    "\n",
    "- Report the accuracy on the testing dataset in the noise parameter setting. Do you observe performance improvement? accuracy with noisy data: 81.28%. accuracy increased with knn to 85.2% \n"
   ]
  },
  {
   "cell_type": "code",
   "execution_count": 51,
   "metadata": {},
   "outputs": [
    {
     "name": "stdout",
     "output_type": "stream",
     "text": [
      "Accuracy with knn+svm: 85.55, k neighbours: 7\n",
      "Accuracy with just knn: 84.89999999999999, k neighbours: 79\n"
     ]
    }
   ],
   "source": [
    "# Your code here\n",
    "from sklearn.neighbors import KNeighborsClassifier\n",
    "best_knn_svm=0\n",
    "best_k_svm=0\n",
    "\n",
    "best_knn=0\n",
    "best_k=0\n",
    "\n",
    "\n",
    "for neighbor in range(1,100): #1000 took a lot of time\n",
    "    \n",
    "    knn_neigh = KNeighborsClassifier(n_neighbors=neighbor) #for loop \n",
    "    knn_neigh.fit(x_all_train,y_all_train)\n",
    "\n",
    "    y_neigh_predict_test=knn_neigh.predict(x_all_test)\n",
    "    if(accuracy_score(y_all_test, y_neigh_predict_test)*100>best_knn):\n",
    "        best_knn=accuracy_score(y_all_test, y_neigh_predict_test)*100\n",
    "        best_k=neighbor\n",
    "#     print(f\"Accuracy with just knn: {accuracy_score(y_all_test, y_neigh_predict_test)}\")\n",
    "\n",
    "    #train the model with the newly processed training dataset\n",
    "\n",
    "    svm_knn = SVC(kernel='rbf', random_state=0, gamma=.01, C=1)\n",
    "\n",
    "    y_all_train_knn=knn_neigh.predict(x_all_train)\n",
    "    svm_knn.fit(x_all_train,y_all_train_knn)\n",
    "\n",
    "    y_svm_knn_predict_test=svm_knn.predict(x_all_test)\n",
    "    \n",
    "    if(accuracy_score(y_all_test, y_svm_knn_predict_test)*100>best_knn_svm):\n",
    "        best_knn_svm=accuracy_score(y_all_test, y_svm_knn_predict_test)*100\n",
    "        best_k_svm=neighbor\n",
    "# print(f\"Accuracy with knn+svm: {accuracy_score(y_all_test, y_svm_knn_predict_test)}\")\n",
    "# best_knn_svm/=100\n",
    "print(f\"Accuracy with knn+svm: {best_knn_svm}, k neighbours: {best_k_svm}\")\n",
    "print(f\"Accuracy with just knn: {best_knn}, k neighbours: {best_k}\")"
   ]
  },
  {
   "cell_type": "markdown",
   "metadata": {},
   "source": [
    "## (c -- 20 pts) Open question\n",
    "\n",
    "- Try using **clustering (i.e., K-means, EM-clustering)** to correct wrong labels before training. \n",
    "\n",
    "- Then train the model with the newly processed training dataset. \n",
    "\n",
    "- Report the accuracy on the testing dataset in the noise parameter setting. Do you observe performance improvement? No. Performance got decreased to 48.35%"
   ]
  },
  {
   "cell_type": "code",
   "execution_count": 53,
   "metadata": {},
   "outputs": [
    {
     "name": "stdout",
     "output_type": "stream",
     "text": [
      "Accuracy with kmeans+svm: 48.0\n"
     ]
    }
   ],
   "source": [
    "# Your code here\n",
    "from sklearn.cluster import KMeans\n",
    "kmeans_cluster=KMeans(n_clusters=2,random_state=0).fit(x_all_train)\n",
    "y_all_kmeans=kmeans_cluster.labels_\n",
    "svm_kmeans=SVC(kernel='rbf', random_state=0, gamma=.01, C=1)\n",
    "svm_kmeans.fit(x_all_train,y_all_kmeans)\n",
    "\n",
    "y_svm_kmeans_predict_test=svm_kmeans.predict(x_all_test)\n",
    "print(f\"Accuracy with kmeans+svm: {accuracy_score(y_all_test, y_svm_kmeans_predict_test)*100}\")"
   ]
  },
  {
   "cell_type": "markdown",
   "metadata": {},
   "source": [
    "# Question 2. (Binary Image Classification, 40 pts + 10 pts bonus)\n",
    "\n",
    "In this question, you will perform a binary image classification task with scikit-learn implemented models. Your will see the improtance of a powerful feature extractor. Meanwhile, you will learn to perform hypyer-parameter tunning and select machine learning models with scikit-learn. Please **do not** use deep learning models for training use in this question."
   ]
  },
  {
   "cell_type": "markdown",
   "metadata": {},
   "source": [
    "#### Import/Install required packages (i.e., [Pillow](https://pillow.readthedocs.io/en/latest/installation.html))"
   ]
  },
  {
   "cell_type": "code",
   "execution_count": 1,
   "metadata": {},
   "outputs": [],
   "source": [
    "# Import libraries\n",
    "import os\n",
    "from os.path import join\n",
    "import pandas as pd\n",
    "import numpy as np\n",
    "import matplotlib.pyplot as plt\n",
    "import warnings\n",
    "warnings.filterwarnings(\"ignore\")\n",
    "from PIL import Image\n",
    "from sklearn.utils import shuffle\n",
    "from sklearn.metrics import accuracy_score\n",
    "from sklearn.metrics import confusion_matrix"
   ]
  },
  {
   "cell_type": "markdown",
   "metadata": {},
   "source": [
    "#### Data preprocessing"
   ]
  },
  {
   "cell_type": "code",
   "execution_count": 2,
   "metadata": {},
   "outputs": [],
   "source": [
    "# A help function which appends the path list for train and test image folder\n",
    "def get_path(is_train=True):\n",
    "    if is_train:\n",
    "        directory = \"train\"\n",
    "    else:\n",
    "        directory = \"test\"\n",
    "\n",
    "    # Append the image path to a list for imgaes that contain a hotdog    \n",
    "    hot_dog_image_dir = f'./{directory}/hot_dog'\n",
    "    hot_dog_paths = [join(hot_dog_image_dir,filename) for filename in os.listdir(hot_dog_image_dir)]\n",
    "\n",
    "    # Append the image path to a list for imgaes that don't contain a hotdog   \n",
    "    not_hot_dog_image_dir = f'./{directory}/not_hot_dog'\n",
    "    not_hot_dog_paths = [join(not_hot_dog_image_dir, filename) for filename in os.listdir(not_hot_dog_image_dir)]\n",
    "\n",
    "    img_paths = hot_dog_paths + not_hot_dog_paths\n",
    "    \n",
    "    # Return the unshuffled image paths\n",
    "    return img_paths"
   ]
  },
  {
   "cell_type": "code",
   "execution_count": 3,
   "metadata": {
    "tags": []
   },
   "outputs": [
    {
     "name": "stdout",
     "output_type": "stream",
     "text": [
      "There are 498 train images and 500 test images.\n"
     ]
    }
   ],
   "source": [
    "# Show how many figures contained in the train and test dataset\n",
    "print(f\"There are {len(get_path())} train images and {len(get_path(is_train=False))} test images.\")"
   ]
  },
  {
   "cell_type": "markdown",
   "metadata": {},
   "source": [
    "Take a look at a few randomly selected example images we will deal with."
   ]
  },
  {
   "cell_type": "code",
   "execution_count": 4,
   "metadata": {
    "tags": []
   },
   "outputs": [
    {
     "name": "stdout",
     "output_type": "stream",
     "text": [
      "[121, 19, 433, 65, 358, 188, 264, 48, 81, 468]\n"
     ]
    },
    {
     "data": {
      "image/png": "[encoded data removed]",
      "text/plain": [
       "<Figure size 432x288 with 10 Axes>"
      ]
     },
     "metadata": {
      "needs_background": "light"
     },
     "output_type": "display_data"
    }
   ],
   "source": [
    "import random \n",
    "\n",
    "fig,ax = plt.subplots(2,5)\n",
    "index_list = [random.randrange(1, len(get_path()), 1) for i in range(10)]\n",
    "print(index_list)\n",
    "train_paths = get_path()\n",
    "\n",
    "filenames=[train_paths[idx] for idx in index_list] \n",
    "for i in range(10):\n",
    "    with open(filenames[i],'rb') as f:\n",
    "        image=Image.open(f)\n",
    "        ax[i%2][i//2].imshow(image)\n",
    "        ax[i%2][i//2].axis('off')\n",
    "fig.show()"
   ]
  },
  {
   "cell_type": "markdown",
   "metadata": {},
   "source": [
    "#### The images may have different shape/size."
   ]
  },
  {
   "cell_type": "code",
   "execution_count": 5,
   "metadata": {
    "tags": []
   },
   "outputs": [
    {
     "name": "stdout",
     "output_type": "stream",
     "text": [
      "(200, 200, 3)\n"
     ]
    }
   ],
   "source": [
    "# See the shape of an image\n",
    "sample_img = Image.open(train_paths[1])\n",
    "print(np.array(sample_img).shape)"
   ]
  },
  {
   "cell_type": "markdown",
   "metadata": {},
   "source": [
    "#### Standard PCA methods implemented in Scikit-learn do not work for color imgaes (RGB), so we will transform the images into greyscale."
   ]
  },
  {
   "cell_type": "code",
   "execution_count": 6,
   "metadata": {},
   "outputs": [],
   "source": [
    "import matplotlib\n",
    "\n",
    "# Transform color images to greyscale\n",
    "def rgb2gray(rgb_img):\n",
    "    return np.dot(rgb_img[...,:3], [0.2989, 0.5870, 0.1140])\n",
    "\n",
    "# Given the image path, return the resized image as an numpy 2d array\n",
    "def get_image(path):\n",
    "    img = Image.open(path)\n",
    "    img = img.resize((200,200))\n",
    "    img.save(path)\n",
    "    img = matplotlib.image.imread(path)\n",
    "    gray = rgb2gray(img)  \n",
    "    return np.array(gray)"
   ]
  },
  {
   "cell_type": "code",
   "execution_count": 7,
   "metadata": {
    "tags": []
   },
   "outputs": [
    {
     "name": "stdout",
     "output_type": "stream",
     "text": [
      "(200, 200)\n"
     ]
    }
   ],
   "source": [
    "print(get_image(train_paths[1]).shape)"
   ]
  },
  {
   "cell_type": "markdown",
   "metadata": {},
   "source": [
    "#### Append image data and labels in to list"
   ]
  },
  {
   "cell_type": "code",
   "execution_count": 8,
   "metadata": {
    "tags": []
   },
   "outputs": [
    {
     "name": "stdout",
     "output_type": "stream",
     "text": [
      "The shape of the training data is (498, 40000)\n"
     ]
    }
   ],
   "source": [
    "# Prepare the raw data: geryscale, train images and train labels\n",
    "h, w = get_image(train_paths[1]).shape\n",
    "train_data = np.empty((len(train_paths), h, w))\n",
    "train_label = [1] * np.int(len(train_paths)/2) + [0] * np.int(len(train_paths)/2)\n",
    "count = -1\n",
    "for pth in train_paths:\n",
    "    count += 1\n",
    "    image = get_image(pth)\n",
    "    train_data[count] = image\n",
    "n_samples = train_data.shape[0]\n",
    "X = np.empty((n_samples, h * w))\n",
    "for i in range(n_samples):\n",
    "    X[i] = train_data[i].flatten()\n",
    "y = train_label\n",
    "print(f\"The shape of the training data is {X.shape}\")"
   ]
  },
  {
   "cell_type": "markdown",
   "metadata": {},
   "source": [
    "#### Prepare the raw test data"
   ]
  },
  {
   "cell_type": "code",
   "execution_count": 9,
   "metadata": {
    "tags": []
   },
   "outputs": [
    {
     "name": "stdout",
     "output_type": "stream",
     "text": [
      "The shape of the test data is (500, 40000)\n"
     ]
    }
   ],
   "source": [
    "test_paths = get_path(is_train=False)\n",
    "\n",
    "\n",
    "# Prepare the raw dataframe: geryscale, test images and test labels\n",
    "test_data = np.empty((len(test_paths), h, w))\n",
    "test_label = [1] * np.int(len(test_paths)/2) + [0] * np.int(len(test_paths)/2)\n",
    "count = -1\n",
    "for pth in test_paths:\n",
    "    count += 1\n",
    "    image = get_image(pth)\n",
    "    test_data[count] = image\n",
    "X_test = np.empty((len(test_paths), h * w))\n",
    "for i in range(n_samples):\n",
    "    X_test[i] = test_data[i].flatten()\n",
    "y_test = test_label\n",
    "print(f\"The shape of the test data is {X_test.shape}\")"
   ]
  },
  {
   "cell_type": "markdown",
   "metadata": {},
   "source": [
    "#### Shuffle the training dataset"
   ]
  },
  {
   "cell_type": "code",
   "execution_count": 10,
   "metadata": {},
   "outputs": [
    {
     "name": "stdout",
     "output_type": "stream",
     "text": [
      "The shape of the training data is (498, 40000)\n"
     ]
    }
   ],
   "source": [
    "# Shuffle the training dataset\n",
    "from sklearn.utils import shuffle\n",
    "X_train, y_train = shuffle(X, y, random_state=0)\n",
    "X_train\n",
    "print(f\"The shape of the training data is {X.shape}\")"
   ]
  },
  {
   "cell_type": "code",
   "execution_count": 11,
   "metadata": {},
   "outputs": [],
   "source": [
    "# Import additional libaries\n",
    "from sklearn.decomposition import PCA\n",
    "from sklearn.svm import SVC"
   ]
  },
  {
   "cell_type": "markdown",
   "metadata": {},
   "source": [
    "## Question 2.1 Reducing the dimensions (feature extraction) -- 15 pts\n",
    "\n",
    "In this question, you will need to use a dimensionality reduction (feature extraction) method to project both <code>X_train</code> and <code>X_test</code> on a lower dimensions. Otherwise, training directly on the raw images will consume you a long time."
   ]
  },
  {
   "cell_type": "code",
   "execution_count": 21,
   "metadata": {},
   "outputs": [
    {
     "data": {
      "text/plain": [
       "(0.0, 5.0)"
      ]
     },
     "execution_count": 21,
     "metadata": {},
     "output_type": "execute_result"
    },
    {
     "data": {
      "image/png": "[encoded data removed]",
      "text/plain": [
       "<Figure size 432x288 with 1 Axes>"
      ]
     },
     "metadata": {
      "needs_background": "light"
     },
     "output_type": "display_data"
    }
   ],
   "source": [
    "# Your code here\n",
    "\n",
    "from sklearn.decomposition import PCA\n",
    "explainedratio=PCA().fit(X).explained_variance_ratio_\n",
    "# print(explainedratio)\n",
    "\n",
    "plt.xlabel('The $i-$th component')\n",
    "plt.ylabel('Ratio of explained variance')\n",
    "i_component=[i for i in range(X.shape[0])]\n",
    "plt.scatter(i_component, explainedratio)\n",
    "plt.xlim([0, 5]) #therefore we take n-component as 2\n",
    "\n",
    "\n"
   ]
  },
  {
   "cell_type": "code",
   "execution_count": 13,
   "metadata": {},
   "outputs": [],
   "source": [
    "from sklearn.preprocessing import StandardScaler\n",
    "scale=StandardScaler()\n",
    "X_scale_train=scale.fit_transform(X_train)\n",
    "X_scale_test=scale.fit_transform(X_test)\n",
    "projected_X_train = PCA(n_components=2).fit_transform(X_scale_train)\n",
    "projected_X_test=PCA(n_components=2).fit_transform(X_scale_test)\n"
   ]
  },
  {
   "cell_type": "markdown",
   "metadata": {},
   "source": [
    "## Question 2.2 Binary Image Classification -- 15 pts\n",
    "\n",
    "In this question, you will need to find the most suitable machine learning models (as well as hyper-parameters) implemented in <code>Scikit-learn</code>, for example, fit on the projected training data and labels, then predict on the projected test data. The accuracy score determines the accuracy your model prediction.\n",
    "\n",
    "**Hint:** here are some links for implemented machine learning models in Scikit-learn.\n",
    "\n",
    "- SVM: [link](https://scikit-learn.org/stable/modules/svm.html)\n",
    "\n",
    "- Gaussian Naive Bayes: [link](https://scikit-learn.org/stable/modules/generated/sklearn.naive_bayes.GaussianNB.html#sklearn.naive_bayes.GaussianNB)\n",
    "\n",
    "- A toy example about classifier comparisons: [link](https://scikit-learn.org/stable/auto_examples/classification/plot_classifier_comparison.html#sphx-glr-auto-examples-classification-plot-classifier-comparison-py)\n",
    "\n",
    "- If you are unsure about hyperparameter selection, you may find [grid-search](https://scikit-learn.org/stable/modules/grid_search.html#exhaustive-grid-search) helpful.\n",
    "\n",
    "- To achieve a high accuracy score, simply adopting PCA for feature extraction may not work. You may need to find some advanced feature extractor to reach a much better performance, i.e., >80%.\n"
   ]
  },
  {
   "cell_type": "code",
   "execution_count": 17,
   "metadata": {},
   "outputs": [
    {
     "name": "stdout",
     "output_type": "stream",
     "text": [
      "The model is 60.4% accurate\n"
     ]
    }
   ],
   "source": [
    "from sklearn.naive_bayes import GaussianNB\n",
    "naive_gaussian=GaussianNB(priors=None,var_smoothing=1e-09)\n",
    "\n",
    "scale=StandardScaler()\n",
    "X_scale_train=scale.fit_transform(X_train)\n",
    "X_scale_test=scale.fit_transform(X_test)\n",
    "projected_X_train = PCA(n_components=3).fit_transform(X_scale_train)\n",
    "projected_X_test=PCA(n_components=3).fit_transform(X_scale_test)\n",
    "\n",
    "\n",
    "naive_gaussian.fit(projected_X_train, y_train)\n",
    "# print(X_test.shape,projected)\n",
    "y_pred=naive_gaussian.predict(projected_X_test)\n",
    "print(f\"The model is {accuracy_score(y_pred,y_test)*100}% accurate\")"
   ]
  },
  {
   "cell_type": "code",
   "execution_count": 20,
   "metadata": {},
   "outputs": [
    {
     "name": "stdout",
     "output_type": "stream",
     "text": [
      "The model is 61.0% accurate for n_component=77\n"
     ]
    }
   ],
   "source": [
    "from sklearn.naive_bayes import GaussianNB\n",
    "best_acc=0\n",
    "best_n_component=0\n",
    "for i in range(2,100):\n",
    "    naive_gaussian=GaussianNB(priors=None,var_smoothing=1e-09)\n",
    "\n",
    "    scale=StandardScaler()\n",
    "    X_scale_train=scale.fit_transform(X_train)\n",
    "    X_scale_test=scale.fit_transform(X_test)\n",
    "    projected_X_train = PCA(n_components=i).fit_transform(X_scale_train)\n",
    "    projected_X_test=PCA(n_components=i).fit_transform(X_scale_test)\n",
    "\n",
    "\n",
    "    naive_gaussian.fit(projected_X_train, y_train)\n",
    "    # print(X_test.shape,projected)\n",
    "    y_pred=naive_gaussian.predict(projected_X_test)\n",
    "    if(accuracy_score(y_pred,y_test)*100>best_acc):\n",
    "        best_acc=accuracy_score(y_pred,y_test)*100\n",
    "        best_n_component=i\n",
    "print(f\"The model is {best_acc}% accurate for n_component={best_n_component}\")"
   ]
  },
  {
   "cell_type": "code",
   "execution_count": null,
   "metadata": {},
   "outputs": [],
   "source": []
  },
  {
   "cell_type": "code",
   "execution_count": null,
   "metadata": {},
   "outputs": [],
   "source": [
    "# import numpy as np\n",
    "# import matplotlib.pyplot as plt\n",
    "# from matplotlib.colors import ListedColormap\n",
    "# from sklearn.model_selection import train_test_split\n",
    "# from sklearn.preprocessing import StandardScaler\n",
    "# from sklearn.datasets import make_moons, make_circles, make_classification\n",
    "# from sklearn.neural_network import MLPClassifier\n",
    "# from sklearn.neighbors import KNeighborsClassifier\n",
    "# from sklearn.svm import SVC\n",
    "# from sklearn.gaussian_process import GaussianProcessClassifier\n",
    "# from sklearn.gaussian_process.kernels import RBF\n",
    "# from sklearn.tree import DecisionTreeClassifier\n",
    "# from sklearn.ensemble import RandomForestClassifier, AdaBoostClassifier\n",
    "# from sklearn.naive_bayes import GaussianNB\n",
    "# from sklearn.discriminant_analysis import QuadraticDiscriminantAnalysis\n",
    "\n",
    "# h = 0.02  # step size in the mesh\n",
    "\n",
    "# names = [\n",
    "#     \"Nearest Neighbors\",\n",
    "#     \"Linear SVM\",\n",
    "#     \"RBF SVM\",\n",
    "#     \"Gaussian Process\",\n",
    "#     \"Decision Tree\",\n",
    "#     \"Random Forest\",\n",
    "#     \"Neural Net\",\n",
    "#     \"AdaBoost\",\n",
    "#     \"Naive Bayes\",\n",
    "#     \"QDA\",\n",
    "# ]\n",
    "\n",
    "# classifiers = [\n",
    "#     KNeighborsClassifier(3),\n",
    "#     SVC(kernel=\"linear\", C=0.025),\n",
    "#     SVC(gamma=2, C=1),\n",
    "#     GaussianProcessClassifier(1.0 * RBF(1.0)),\n",
    "#     DecisionTreeClassifier(max_depth=5),\n",
    "#     RandomForestClassifier(max_depth=5, n_estimators=10, max_features=1),\n",
    "#     MLPClassifier(alpha=1, max_iter=1000),\n",
    "#     AdaBoostClassifier(),\n",
    "#     GaussianNB(),\n",
    "#     QuadraticDiscriminantAnalysis(),\n",
    "# ]\n",
    "\n",
    "# X, y = make_classification(\n",
    "#     n_features=2, n_redundant=0, n_informative=2, random_state=1, n_clusters_per_class=1\n",
    "# )\n",
    "# rng = np.random.RandomState(2)\n",
    "# X += 2 * rng.uniform(size=X.shape)\n",
    "# linearly_separable = (X, y)\n",
    "\n",
    "# datasets = [\n",
    "#     make_moons(noise=0.3, random_state=0),\n",
    "#     make_circles(noise=0.2, factor=0.5, random_state=1),\n",
    "#     linearly_separable,\n",
    "# ]\n",
    "\n",
    "# figure = plt.figure(figsize=(27, 9))\n",
    "# i = 1\n",
    "# # iterate over datasets\n",
    "# for ds_cnt, ds in enumerate(datasets):\n",
    "#     # preprocess dataset, split into training and test part\n",
    "\n",
    "#     X_train, X_test, y_train, y_test = projected_X_train,projected_X_test,y_train,y_test\n",
    "\n",
    "#     x_min, x_max = X[:, 0].min() - 0.5, X[:, 0].max() + 0.5\n",
    "#     y_min, y_max = X[:, 1].min() - 0.5, X[:, 1].max() + 0.5\n",
    "#     xx, yy = np.meshgrid(np.arange(x_min, x_max, h), np.arange(y_min, y_max, h))\n",
    "\n",
    "#     # just plot the dataset first\n",
    "#     cm = plt.cm.RdBu\n",
    "#     cm_bright = ListedColormap([\"#FF0000\", \"#0000FF\"])\n",
    "#     ax = plt.subplot(len(datasets), len(classifiers) + 1, i)\n",
    "#     if ds_cnt == 0:\n",
    "#         ax.set_title(\"Input data\")\n",
    "#     # Plot the training points\n",
    "#     ax.scatter(X_train[:, 0], X_train[:, 1], c=y_train, cmap=cm_bright, edgecolors=\"k\")\n",
    "#     # Plot the testing points\n",
    "#     ax.scatter(\n",
    "#         X_test[:, 0], X_test[:, 1], c=y_test, cmap=cm_bright, alpha=0.6, edgecolors=\"k\"\n",
    "#     )\n",
    "#     ax.set_xlim(xx.min(), xx.max())\n",
    "#     ax.set_ylim(yy.min(), yy.max())\n",
    "#     ax.set_xticks(())\n",
    "#     ax.set_yticks(())\n",
    "#     i += 1\n",
    "\n",
    "#     # iterate over classifiers\n",
    "#     for name, clf in zip(names, classifiers):\n",
    "#         ax = plt.subplot(len(datasets), len(classifiers) + 1, i)\n",
    "#         clf.fit(X_train, y_train)\n",
    "#         score = clf.score(X_test, y_test)\n",
    "\n",
    "#         # Plot the decision boundary. For that, we will assign a color to each\n",
    "#         # point in the mesh [x_min, x_max]x[y_min, y_max].\n",
    "#         if hasattr(clf, \"decision_function\"):\n",
    "#             Z = clf.decision_function(np.c_[xx.ravel(), yy.ravel()])\n",
    "#         else:\n",
    "#             Z = clf.predict_proba(np.c_[xx.ravel(), yy.ravel()])[:, 1]\n",
    "\n",
    "#         # Put the result into a color plot\n",
    "# #         Z = Z.reshape(xx.shape)\n",
    "#         ax.contourf(xx, yy, Z, cmap=cm, alpha=0.8)\n",
    "\n",
    "#         # Plot the training points\n",
    "#         ax.scatter(\n",
    "#             X_train[:, 0], X_train[:, 1], c=y_train, cmap=cm_bright, edgecolors=\"k\"\n",
    "#         )\n",
    "#         # Plot the testing points\n",
    "#         ax.scatter(\n",
    "#             X_test[:, 0],\n",
    "#             X_test[:, 1],\n",
    "#             c=y_test,\n",
    "#             cmap=cm_bright,\n",
    "#             edgecolors=\"k\",\n",
    "#             alpha=0.6,\n",
    "#         )\n",
    "\n",
    "#         ax.set_xlim(xx.min(), xx.max())\n",
    "#         ax.set_ylim(yy.min(), yy.max())\n",
    "#         ax.set_xticks(())\n",
    "#         ax.set_yticks(())\n",
    "#         if ds_cnt == 0:\n",
    "#             ax.set_title(name)\n",
    "#         ax.text(\n",
    "#             xx.max() - 0.3,\n",
    "#             yy.min() + 0.3,\n",
    "#             score,\n",
    "#             size=15,\n",
    "#             horizontalalignment=\"right\",\n",
    "#         )\n",
    "#         i += 1\n",
    "\n",
    "# plt.tight_layout()\n",
    "# plt.show()"
   ]
  },
  {
   "cell_type": "code",
   "execution_count": null,
   "metadata": {},
   "outputs": [],
   "source": [
    "# import numpy as np\n",
    "# import matplotlib.pyplot as plt\n",
    "# from matplotlib.colors import ListedColormap\n",
    "# from sklearn.model_selection import train_test_split\n",
    "# from sklearn.preprocessing import StandardScaler\n",
    "# from sklearn.datasets import make_moons, make_circles, make_classification\n",
    "# from sklearn.neural_network import MLPClassifier\n",
    "# from sklearn.neighbors import KNeighborsClassifier\n",
    "# from sklearn.svm import SVC\n",
    "# from sklearn.gaussian_process import GaussianProcessClassifier\n",
    "# from sklearn.gaussian_process.kernels import RBF\n",
    "# from sklearn.tree import DecisionTreeClassifier\n",
    "# from sklearn.ensemble import RandomForestClassifier, AdaBoostClassifier\n",
    "# from sklearn.naive_bayes import GaussianNB\n",
    "# from sklearn.discriminant_analysis import QuadraticDiscriminantAnalysis\n",
    "\n",
    "# h = 0.02  # step size in the mesh\n",
    "\n",
    "# names = [\n",
    "#     \"Nearest Neighbors\",\n",
    "#     \"Linear SVM\",\n",
    "#     \"RBF SVM\",\n",
    "#     \"Gaussian Process\",\n",
    "#     \"Decision Tree\",\n",
    "#     \"Random Forest\",\n",
    "#     \"Neural Net\",\n",
    "#     \"AdaBoost\",\n",
    "#     \"Naive Bayes\",\n",
    "#     \"QDA\",\n",
    "# ]\n",
    "\n",
    "# classifiers = [\n",
    "#     KNeighborsClassifier(3),\n",
    "#     SVC(kernel=\"linear\", C=0.025),\n",
    "#     SVC(gamma=2, C=1),\n",
    "#     GaussianProcessClassifier(1.0 * RBF(1.0)),\n",
    "#     DecisionTreeClassifier(max_depth=5),\n",
    "#     RandomForestClassifier(max_depth=5, n_estimators=10, max_features=1),\n",
    "#     MLPClassifier(alpha=1, max_iter=1000),\n",
    "#     AdaBoostClassifier(),\n",
    "#     GaussianNB(),\n",
    "#     QuadraticDiscriminantAnalysis(),\n",
    "# ]\n",
    "\n",
    "# X, y = make_classification(\n",
    "#     n_features=2, n_redundant=0, n_informative=2, random_state=1, n_clusters_per_class=1\n",
    "# )\n",
    "# rng = np.random.RandomState(2)\n",
    "# X += 2 * rng.uniform(size=X.shape)\n",
    "# linearly_separable = (X, y)\n",
    "\n",
    "# datasets = [\n",
    "#     make_moons(noise=0.3, random_state=0),\n",
    "#     make_circles(noise=0.2, factor=0.5, random_state=1),\n",
    "#     linearly_separable,\n",
    "# ]\n",
    "\n",
    "# figure = plt.figure(figsize=(27, 9))\n",
    "# i = 1\n",
    "# # iterate over datasets\n",
    "# for ds_cnt, ds in enumerate(datasets):\n",
    "#     # preprocess dataset, split into training and test part\n",
    "\n",
    "#     X_train, X_test, y_train, y_test = X_train,X_test,y_train,y_test\n",
    "\n",
    "#     x_min, x_max = X[:, 0].min() - 0.5, X[:, 0].max() + 0.5\n",
    "#     y_min, y_max = X[:, 1].min() - 0.5, X[:, 1].max() + 0.5\n",
    "#     xx, yy = np.meshgrid(np.arange(x_min, x_max, h), np.arange(y_min, y_max, h))\n",
    "\n",
    "#     # just plot the dataset first\n",
    "#     cm = plt.cm.RdBu\n",
    "#     cm_bright = ListedColormap([\"#FF0000\", \"#0000FF\"])\n",
    "#     ax = plt.subplot(len(datasets), len(classifiers) + 1, i)\n",
    "#     if ds_cnt == 0:\n",
    "#         ax.set_title(\"Input data\")\n",
    "#     # Plot the training points\n",
    "#     ax.scatter(X_train[:, 0], X_train[:, 1], c=y_train, cmap=cm_bright, edgecolors=\"k\")\n",
    "#     # Plot the testing points\n",
    "#     ax.scatter(\n",
    "#         X_test[:, 0], X_test[:, 1], c=y_test, cmap=cm_bright, alpha=0.6, edgecolors=\"k\"\n",
    "#     )\n",
    "#     ax.set_xlim(xx.min(), xx.max())\n",
    "#     ax.set_ylim(yy.min(), yy.max())\n",
    "#     ax.set_xticks(())\n",
    "#     ax.set_yticks(())\n",
    "#     i += 1\n",
    "\n",
    "#     # iterate over classifiers\n",
    "#     for name, clf in zip(names, classifiers):\n",
    "#         ax = plt.subplot(len(datasets), len(classifiers) + 1, i)\n",
    "#         clf.fit(X_train, y_train)\n",
    "#         score = clf.score(X_test, y_test)\n",
    "\n",
    "#         # Plot the decision boundary. For that, we will assign a color to each\n",
    "#         # point in the mesh [x_min, x_max]x[y_min, y_max].\n",
    "#         if hasattr(clf, \"decision_function\"):\n",
    "#             Z = clf.decision_function(np.c_[xx.ravel(), yy.ravel()])\n",
    "#         else:\n",
    "#             Z = clf.predict_proba(np.c_[xx.ravel(), yy.ravel()])[:, 1]\n",
    "\n",
    "#         # Put the result into a color plot\n",
    "#         Z = Z.reshape(xx.shape)\n",
    "#         ax.contourf(xx, yy, Z, cmap=cm, alpha=0.8)\n",
    "\n",
    "#         # Plot the training points\n",
    "#         ax.scatter(\n",
    "#             X_train[:, 0], X_train[:, 1], c=y_train, cmap=cm_bright, edgecolors=\"k\"\n",
    "#         )\n",
    "#         # Plot the testing points\n",
    "#         ax.scatter(\n",
    "#             X_test[:, 0],\n",
    "#             X_test[:, 1],\n",
    "#             c=y_test,\n",
    "#             cmap=cm_bright,\n",
    "#             edgecolors=\"k\",\n",
    "#             alpha=0.6,\n",
    "#         )\n",
    "\n",
    "#         ax.set_xlim(xx.min(), xx.max())\n",
    "#         ax.set_ylim(yy.min(), yy.max())\n",
    "#         ax.set_xticks(())\n",
    "#         ax.set_yticks(())\n",
    "#         if ds_cnt == 0:\n",
    "#             ax.set_title(name)\n",
    "#         ax.text(\n",
    "#             xx.max() - 0.3,\n",
    "#             yy.min() + 0.3,\n",
    "# #             (\"%.2f\" % score).lstrip(\"0\"),\n",
    "#             score,\n",
    "#             size=15,\n",
    "#             horizontalalignment=\"right\",\n",
    "#         )\n",
    "#         i += 1\n",
    "\n",
    "# plt.tight_layout()\n",
    "# plt.show()"
   ]
  },
  {
   "cell_type": "code",
   "execution_count": null,
   "metadata": {},
   "outputs": [],
   "source": [
    "# from sklearn import svm\n",
    "# from sklearn.model_selection import GridSearchCV\n",
    "# param_grid={'C':[0.1,1,10,100],'gamma':[0.0001,0.001,0.1,1],'kernel':['rbf','poly']}\n",
    "# svc=svm.SVC(probability=True)\n",
    "# model=GridSearchCV(svc,param_grid)\n",
    "# # X_train, X_test, y_train, y_test = X_train,X_test,y_train,y_test\n",
    "# x_train,x_test,y_train,y_test=X_train,X_test,y_train,y_test\n",
    "\n",
    "# model.fit(x_train,y_train)\n",
    "\n",
    "# y_pred=model.predict(x_test)\n",
    "# print(\"The predicted Data is :\")\n",
    "# print(y_pred)\n",
    "# print(\"The actual data is:\")\n",
    "# print(np.array(y_test))\n",
    "# print(f\"The model is {accuracy_score(y_pred,y_test)*100}% accurate\")\n",
    "# # model.best_params_ contains the best parameters obtained from GridSearchCV"
   ]
  },
  {
   "cell_type": "code",
   "execution_count": null,
   "metadata": {},
   "outputs": [],
   "source": [
    "# `\n"
   ]
  },
  {
   "cell_type": "code",
   "execution_count": null,
   "metadata": {},
   "outputs": [],
   "source": []
  },
  {
   "cell_type": "code",
   "execution_count": null,
   "metadata": {},
   "outputs": [],
   "source": []
  },
  {
   "cell_type": "markdown",
   "metadata": {},
   "source": [
    "## Leaderboard\n",
    "\n",
    "Depending on your best achieved accuracy score, the remaining points and bonus points are organized as below:\n",
    "\n",
    "- **Accuracy score > 98%:** 10 pts + **10 bonus pts**\n",
    "\n",
    "- **Accuracy score 96-98%:** 10 pts + **8 bonus pts**\n",
    "\n",
    "- **Accuracy score 94-96%:** 10 pts + **6 bonus pts**\n",
    "\n",
    "- **Accuracy score 92-94%:** 10 pts + **4 bonus pts**\n",
    "\n",
    "- **Accuracy score 90-92%:** 10 pts + **2 bonus pts**\n",
    "\n",
    "- **Accuracy score 80-90%:** 10 pts\n",
    "\n",
    "- **Accuracy score 70-80%:** 8 pts\n",
    "\n",
    "- **Accuracy score 61-70%:** 6 pts\n",
    "\n",
    "- **Accuracy score 58-61%:** 4 pts\n",
    "\n",
    "- **Accuracy score 55-58%:** 2 pts\n",
    "\n",
    "- **Accuracy score < 55%:** 0 pts \n"
   ]
  }
 ],
 "metadata": {
  "kernelspec": {
   "display_name": "Python 3",
   "language": "python",
   "name": "python3"
  },
  "language_info": {
   "codemirror_mode": {
    "name": "ipython",
    "version": 3
   },
   "file_extension": ".py",
   "mimetype": "text/x-python",
   "name": "python",
   "nbconvert_exporter": "python",
   "pygments_lexer": "ipython3",
   "version": "3.8.5"
  }
 },
 "nbformat": 4,
 "nbformat_minor": 5
}
