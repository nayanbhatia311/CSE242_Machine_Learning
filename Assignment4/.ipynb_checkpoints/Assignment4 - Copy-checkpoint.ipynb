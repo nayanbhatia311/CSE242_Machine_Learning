{
 "cells": [
  {
   "cell_type": "markdown",
   "metadata": {},
   "source": [
    "<h1 align=\"center\"> CSE 242 Assignment 4, Fall 2021\n",
    "\n",
    "<h2 align=\"center\"> 2 Questions, 100 pts + 10 bonus pts, due: 23:59 pm, Nov 24th, 2021\n",
    "    \n",
    "    Your name:          Student ID:"
   ]
  },
  {
   "cell_type": "markdown",
   "metadata": {},
   "source": [
    "## Instruction \n",
    "\n",
    "- Submit your assignments onto **Gradescope** by the due date. Upload a <code>zip</code> file containing:\n",
    "\n",
    "    (1) The saved/latest <code>.ipynb</code> file, please **rename this file with your name included**.\n",
    "\n",
    "    (2) Also save your file into a pdf version, if error appears, save an html version instead (easy to grade for written questions).\n",
    "    \n",
    "    **For assignment related questions, please reach TA or grader through Slack/Piazza/Email.**\n",
    "    \n",
    "- This is an **individual** assignment. All help from others (from the web, books other than text, or people other than the TA or instructor) must be clearly acknowledged. \n",
    "\n",
    "## Objective \n",
    "\n",
    "- **Task 1:** Kernel Methods with Noisy Setting (Coding)\n",
    "- **Task 2:** Image Classification with Scikit-learn (Coding)"
   ]
  },
  {
   "cell_type": "markdown",
   "metadata": {},
   "source": [
    "# Question 1. (Kernel Methods with Noisy Setting, 60 pts)\n",
    "\n",
    "**SVM on synthetic dataset generated as follows:**\n",
    "\n",
    "- Draw $1000\\ (x_0, x_1)$ feature vectors from the 2-D Gaussian distribution with mean $\\mu_+ = (1,1)$ and $\\Sigma_+ = [1, 0; 0, 1]$ and label them as $+1$.\n",
    "\n",
    "- Draw $1000\\ (x_0, x_1)$ feature vectors from the 2-D Gaussian distribution with mean $\\mu_- = (-1,-1)$ and $\\Sigma_- = [3, 0; 0, 3]$ and label them as $-1$.\n",
    "    \n",
    "- This gives you a $2000$ example training set. Repeat the above to draw a test set the same way.\n",
    "\n",
    "Use a SVM package (I used scikit-learn's svm.SVC class) to learn SVMs with a variety of parameter settings. "
   ]
  },
  {
   "cell_type": "markdown",
   "metadata": {},
   "source": [
    "## (a -- 20 pts) \n",
    "\n",
    "- Use an RBF kernel with parameters $C=1$, $\\gamma = 0.01$. \n",
    "\n",
    "- For each training data with +1 label, randomly flip their label to -1 with probability $\\textbf{0.35}$.\n",
    "\n",
    "- For each training data with -1 label, randomly flip their label to +1 with probability $\\textbf{0.20}$.\n",
    "\n",
    "- Train with the above noisy training examples.\n",
    "\n",
    "- Random flipping introduces the randomness. You can repeat multiple times (e.g. 20) and then report the average accuracy on the testing dataset (clean) in the noise parameter setting. \n",
    "\n"
   ]
  },
  {
   "cell_type": "code",
   "execution_count": 1,
   "metadata": {},
   "outputs": [],
   "source": [
    "# Your code here\n",
    "\n"
   ]
  },
  {
   "cell_type": "markdown",
   "metadata": {},
   "source": [
    "## (b -- 20 pts) Open question\n",
    "\n",
    "- Try using **K-Nearst Neighbors** to correct wrong labels before training. \n",
    "\n",
    "- Then train the model with the newly processed training dataset. \n",
    "\n",
    "- Report the accuracy on the testing dataset in the noise parameter setting. Do you observe performance improvement?\n"
   ]
  },
  {
   "cell_type": "code",
   "execution_count": 2,
   "metadata": {},
   "outputs": [],
   "source": [
    "# Your code here\n",
    "\n"
   ]
  },
  {
   "cell_type": "markdown",
   "metadata": {},
   "source": [
    "## (c -- 20 pts) Open question\n",
    "\n",
    "- Try using **clustering (i.e., K-means, EM-clustering)** to correct wrong labels before training. \n",
    "\n",
    "- Then train the model with the newly processed training dataset. \n",
    "\n",
    "- Report the accuracy on the testing dataset in the noise parameter setting. Do you observe performance improvement?"
   ]
  },
  {
   "cell_type": "code",
   "execution_count": 3,
   "metadata": {},
   "outputs": [],
   "source": [
    "# Your code here\n",
    "\n"
   ]
  },
  {
   "cell_type": "markdown",
   "metadata": {},
   "source": [
    "# Question 2. (Binary Image Classification, 40 pts + 10 pts bonus)\n",
    "\n",
    "In this question, you will perform a binary image classification task with scikit-learn implemented models. Your will see the improtance of a powerful feature extractor. Meanwhile, you will learn to perform hypyer-parameter tunning and select machine learning models with scikit-learn. Please **do not** use deep learning models for training use in this question."
   ]
  },
  {
   "cell_type": "markdown",
   "metadata": {},
   "source": [
    "#### Import/Install required packages (i.e., [Pillow](https://pillow.readthedocs.io/en/latest/installation.html))"
   ]
  },
  {
   "cell_type": "code",
   "execution_count": 4,
   "metadata": {},
   "outputs": [],
   "source": [
    "# Import libraries\n",
    "import os\n",
    "from os.path import join\n",
    "import pandas as pd\n",
    "import numpy as np\n",
    "import matplotlib.pyplot as plt\n",
    "import warnings\n",
    "warnings.filterwarnings(\"ignore\")\n",
    "from PIL import Image\n",
    "from sklearn.utils import shuffle\n",
    "from sklearn.metrics import accuracy_score\n",
    "from sklearn.metrics import confusion_matrix"
   ]
  },
  {
   "cell_type": "markdown",
   "metadata": {},
   "source": [
    "#### Data preprocessing"
   ]
  },
  {
   "cell_type": "code",
   "execution_count": 5,
   "metadata": {},
   "outputs": [],
   "source": [
    "# A help function which appends the path list for train and test image folder\n",
    "def get_path(is_train=True):\n",
    "    if is_train:\n",
    "        directory = \"train\"\n",
    "    else:\n",
    "        directory = \"test\"\n",
    "\n",
    "    # Append the image path to a list for imgaes that contain a hotdog    \n",
    "    hot_dog_image_dir = f'./{directory}/hot_dog'\n",
    "    hot_dog_paths = [join(hot_dog_image_dir,filename) for filename in os.listdir(hot_dog_image_dir)]\n",
    "\n",
    "    # Append the image path to a list for imgaes that don't contain a hotdog   \n",
    "    not_hot_dog_image_dir = f'./{directory}/not_hot_dog'\n",
    "    not_hot_dog_paths = [join(not_hot_dog_image_dir, filename) for filename in os.listdir(not_hot_dog_image_dir)]\n",
    "\n",
    "    img_paths = hot_dog_paths + not_hot_dog_paths\n",
    "    \n",
    "    # Return the unshuffled image paths\n",
    "    return img_paths"
   ]
  },
  {
   "cell_type": "code",
   "execution_count": 6,
   "metadata": {
    "tags": []
   },
   "outputs": [
    {
     "name": "stdout",
     "output_type": "stream",
     "text": [
      "There are 498 train images and 500 test images.\n"
     ]
    }
   ],
   "source": [
    "# Show how many figures contained in the train and test dataset\n",
    "print(f\"There are {len(get_path())} train images and {len(get_path(is_train=False))} test images.\")"
   ]
  },
  {
   "cell_type": "markdown",
   "metadata": {},
   "source": [
    "Take a look at a few randomly selected example images we will deal with."
   ]
  },
  {
   "cell_type": "code",
   "execution_count": 7,
   "metadata": {
    "tags": []
   },
   "outputs": [
    {
     "name": "stdout",
     "output_type": "stream",
     "text": [
      "[96, 81, 55, 157, 35, 82, 417, 15, 77, 395]\n"
     ]
    },
    {
     "data": {
      "image/png": "[encoded data removed]",
      "text/plain": [
       "<Figure size 432x288 with 10 Axes>"
      ]
     },
     "metadata": {
      "needs_background": "light"
     },
     "output_type": "display_data"
    }
   ],
   "source": [
    "import random \n",
    "\n",
    "fig,ax = plt.subplots(2,5)\n",
    "index_list = [random.randrange(1, len(get_path()), 1) for i in range(10)]\n",
    "print(index_list)\n",
    "train_paths = get_path()\n",
    "\n",
    "filenames=[train_paths[idx] for idx in index_list] \n",
    "for i in range(10):\n",
    "    with open(filenames[i],'rb') as f:\n",
    "        image=Image.open(f)\n",
    "        ax[i%2][i//2].imshow(image)\n",
    "        ax[i%2][i//2].axis('off')\n",
    "fig.show()"
   ]
  },
  {
   "cell_type": "markdown",
   "metadata": {},
   "source": [
    "#### The images may have different shape/size."
   ]
  },
  {
   "cell_type": "code",
   "execution_count": 8,
   "metadata": {
    "tags": []
   },
   "outputs": [
    {
     "name": "stdout",
     "output_type": "stream",
     "text": [
      "(200, 200, 3)\n"
     ]
    }
   ],
   "source": [
    "# See the shape of an image\n",
    "sample_img = Image.open(train_paths[1])\n",
    "print(np.array(sample_img).shape)"
   ]
  },
  {
   "cell_type": "markdown",
   "metadata": {},
   "source": [
    "#### Standard PCA methods implemented in Scikit-learn do not work for color imgaes (RGB), so we will transform the images into greyscale."
   ]
  },
  {
   "cell_type": "code",
   "execution_count": 9,
   "metadata": {},
   "outputs": [],
   "source": [
    "import matplotlib\n",
    "\n",
    "# Transform color images to greyscale\n",
    "def rgb2gray(rgb_img):\n",
    "    return np.dot(rgb_img[...,:3], [0.2989, 0.5870, 0.1140])\n",
    "\n",
    "# Given the image path, return the resized image as an numpy 2d array\n",
    "def get_image(path):\n",
    "    img = Image.open(path)\n",
    "    img = img.resize((200,200))\n",
    "    img.save(path)\n",
    "    img = matplotlib.image.imread(path)\n",
    "    gray = rgb2gray(img)  \n",
    "    return np.array(gray)"
   ]
  },
  {
   "cell_type": "code",
   "execution_count": 10,
   "metadata": {
    "tags": []
   },
   "outputs": [
    {
     "name": "stdout",
     "output_type": "stream",
     "text": [
      "(200, 200)\n"
     ]
    }
   ],
   "source": [
    "print(get_image(train_paths[1]).shape)"
   ]
  },
  {
   "cell_type": "markdown",
   "metadata": {},
   "source": [
    "#### Append image data and labels in to list"
   ]
  },
  {
   "cell_type": "code",
   "execution_count": 11,
   "metadata": {
    "tags": []
   },
   "outputs": [
    {
     "name": "stdout",
     "output_type": "stream",
     "text": [
      "The shape of the training data is (498, 40000)\n"
     ]
    }
   ],
   "source": [
    "# Prepare the raw data: geryscale, train images and train labels\n",
    "h, w = get_image(train_paths[1]).shape\n",
    "train_data = np.empty((len(train_paths), h, w))\n",
    "train_label = [1] * np.int(len(train_paths)/2) + [0] * np.int(len(train_paths)/2)\n",
    "count = -1\n",
    "for pth in train_paths:\n",
    "    count += 1\n",
    "    image = get_image(pth)\n",
    "    train_data[count] = image\n",
    "n_samples = train_data.shape[0]\n",
    "X = np.empty((n_samples, h * w))\n",
    "for i in range(n_samples):\n",
    "    X[i] = train_data[i].flatten()\n",
    "y = train_label\n",
    "print(f\"The shape of the training data is {X.shape}\")"
   ]
  },
  {
   "cell_type": "markdown",
   "metadata": {},
   "source": [
    "#### Prepare the raw test data"
   ]
  },
  {
   "cell_type": "code",
   "execution_count": 12,
   "metadata": {
    "tags": []
   },
   "outputs": [
    {
     "name": "stdout",
     "output_type": "stream",
     "text": [
      "The shape of the test data is (500, 40000)\n"
     ]
    }
   ],
   "source": [
    "test_paths = get_path(is_train=False)\n",
    "\n",
    "\n",
    "# Prepare the raw dataframe: geryscale, test images and test labels\n",
    "test_data = np.empty((len(test_paths), h, w))\n",
    "test_label = [1] * np.int(len(test_paths)/2) + [0] * np.int(len(test_paths)/2)\n",
    "count = -1\n",
    "for pth in test_paths:\n",
    "    count += 1\n",
    "    image = get_image(pth)\n",
    "    test_data[count] = image\n",
    "X_test = np.empty((len(test_paths), h * w))\n",
    "for i in range(n_samples):\n",
    "    X_test[i] = test_data[i].flatten()\n",
    "y_test = test_label\n",
    "print(f\"The shape of the test data is {X_test.shape}\")"
   ]
  },
  {
   "cell_type": "markdown",
   "metadata": {},
   "source": [
    "#### Shuffle the training dataset"
   ]
  },
  {
   "cell_type": "code",
   "execution_count": 13,
   "metadata": {},
   "outputs": [
    {
     "name": "stdout",
     "output_type": "stream",
     "text": [
      "The shape of the training data is (498, 40000)\n"
     ]
    }
   ],
   "source": [
    "# Shuffle the training dataset\n",
    "from sklearn.utils import shuffle\n",
    "X_train, y_train = shuffle(X, y, random_state=0)\n",
    "X_train\n",
    "print(f\"The shape of the training data is {X.shape}\")"
   ]
  },
  {
   "cell_type": "code",
   "execution_count": 14,
   "metadata": {},
   "outputs": [],
   "source": [
    "# Import additional libaries\n",
    "from sklearn.decomposition import PCA\n",
    "from sklearn.svm import SVC"
   ]
  },
  {
   "cell_type": "markdown",
   "metadata": {},
   "source": [
    "## Question 2.1 Reducing the dimensions (feature extraction) -- 15 pts\n",
    "\n",
    "In this question, you will need to use a dimensionality reduction (feature extraction) method to project both <code>X_train</code> and <code>X_test</code> on a lower dimensions. Otherwise, training directly on the raw images will consume you a long time."
   ]
  },
  {
   "cell_type": "code",
   "execution_count": 15,
   "metadata": {},
   "outputs": [
    {
     "name": "stdout",
     "output_type": "stream",
     "text": [
      "[2.10254860e-01 8.74801910e-02 5.61523919e-02 4.52594602e-02\n",
      " 3.26756479e-02 2.62552330e-02 2.48086108e-02 1.91800438e-02\n",
      " 1.64938997e-02 1.55348024e-02 1.35184519e-02 1.31109918e-02\n",
      " 1.20969261e-02 1.17176037e-02 1.02801972e-02 9.77005776e-03\n",
      " 9.58894370e-03 8.59059112e-03 8.16325368e-03 7.35918274e-03\n",
      " 7.09742875e-03 6.39369339e-03 6.28244277e-03 6.04103654e-03\n",
      " 5.79208413e-03 5.58020826e-03 5.36825202e-03 5.00936063e-03\n",
      " 4.90733966e-03 4.76721560e-03 4.68050833e-03 4.53914827e-03\n",
      " 4.28704676e-03 4.11039011e-03 3.91908023e-03 3.81788602e-03\n",
      " 3.73543258e-03 3.54629207e-03 3.46957373e-03 3.31239478e-03\n",
      " 3.27844232e-03 3.12240277e-03 3.06160327e-03 2.92719770e-03\n",
      " 2.91301613e-03 2.90415628e-03 2.80626013e-03 2.78010582e-03\n",
      " 2.73760027e-03 2.63649384e-03 2.57877136e-03 2.51217753e-03\n",
      " 2.46927705e-03 2.44839160e-03 2.36899339e-03 2.28330783e-03\n",
      " 2.27392095e-03 2.22580713e-03 2.16656180e-03 2.15699173e-03\n",
      " 2.08419556e-03 2.07514839e-03 2.05670143e-03 2.01611776e-03\n",
      " 1.96332626e-03 1.94202007e-03 1.88625501e-03 1.86823283e-03\n",
      " 1.81212175e-03 1.80138385e-03 1.77961982e-03 1.76547843e-03\n",
      " 1.72117155e-03 1.69758234e-03 1.68242085e-03 1.64149612e-03\n",
      " 1.61441563e-03 1.57967941e-03 1.57096073e-03 1.54963069e-03\n",
      " 1.53199656e-03 1.49204858e-03 1.48371058e-03 1.45843520e-03\n",
      " 1.44414846e-03 1.43066417e-03 1.40480282e-03 1.38555965e-03\n",
      " 1.37558745e-03 1.37025820e-03 1.35890126e-03 1.31657933e-03\n",
      " 1.29215514e-03 1.28964241e-03 1.27144423e-03 1.25828885e-03\n",
      " 1.24770266e-03 1.23542083e-03 1.23160046e-03 1.22100495e-03\n",
      " 1.20869851e-03 1.18493241e-03 1.17309272e-03 1.16055312e-03\n",
      " 1.15115661e-03 1.14053994e-03 1.12843806e-03 1.11809623e-03\n",
      " 1.10527957e-03 1.09222520e-03 1.07621211e-03 1.06943738e-03\n",
      " 1.05812690e-03 1.05069500e-03 1.04221674e-03 1.03391374e-03\n",
      " 1.02269382e-03 1.01090997e-03 9.92049213e-04 9.83618067e-04\n",
      " 9.74256487e-04 9.64370422e-04 9.52832668e-04 9.46285211e-04\n",
      " 9.30484442e-04 9.26315766e-04 9.18710458e-04 9.08078434e-04\n",
      " 9.00755856e-04 8.99836966e-04 8.88887815e-04 8.80677433e-04\n",
      " 8.72441788e-04 8.55798183e-04 8.54955398e-04 8.43403857e-04\n",
      " 8.38732281e-04 8.29308138e-04 8.20451441e-04 8.16723848e-04\n",
      " 8.13296645e-04 8.05169192e-04 7.95345980e-04 7.85479594e-04\n",
      " 7.82736788e-04 7.73777726e-04 7.69508145e-04 7.61970940e-04\n",
      " 7.56242203e-04 7.53038646e-04 7.44400604e-04 7.37153595e-04\n",
      " 7.32052458e-04 7.21630528e-04 7.20002516e-04 7.12078482e-04\n",
      " 7.08094554e-04 7.03599947e-04 6.96225797e-04 6.90597109e-04\n",
      " 6.84137627e-04 6.81428841e-04 6.77754810e-04 6.74136955e-04\n",
      " 6.70289416e-04 6.61491230e-04 6.57525269e-04 6.53380550e-04\n",
      " 6.49398761e-04 6.43357597e-04 6.39355708e-04 6.35517639e-04\n",
      " 6.32900938e-04 6.25218379e-04 6.19662323e-04 6.16358195e-04\n",
      " 6.10751093e-04 6.09391294e-04 6.02577963e-04 5.98355027e-04\n",
      " 5.92946666e-04 5.89872442e-04 5.85579504e-04 5.82329653e-04\n",
      " 5.75873491e-04 5.70699703e-04 5.69116268e-04 5.65220121e-04\n",
      " 5.65105485e-04 5.59815317e-04 5.53624727e-04 5.50012039e-04\n",
      " 5.48373991e-04 5.40950258e-04 5.38527567e-04 5.34578913e-04\n",
      " 5.31273448e-04 5.30294346e-04 5.23972977e-04 5.22873821e-04\n",
      " 5.17102987e-04 5.14560701e-04 5.11309456e-04 5.08780038e-04\n",
      " 5.05077640e-04 4.98865815e-04 4.97317426e-04 4.91567636e-04\n",
      " 4.88714557e-04 4.83691533e-04 4.79232638e-04 4.75690574e-04\n",
      " 4.70627747e-04 4.68944598e-04 4.68052720e-04 4.66496374e-04\n",
      " 4.63786007e-04 4.61391837e-04 4.57225708e-04 4.54731751e-04\n",
      " 4.52053719e-04 4.51408891e-04 4.48389323e-04 4.44825211e-04\n",
      " 4.43768776e-04 4.39644208e-04 4.38684500e-04 4.34001771e-04\n",
      " 4.33146420e-04 4.26091157e-04 4.25344003e-04 4.22929252e-04\n",
      " 4.18501182e-04 4.16941719e-04 4.13552672e-04 4.10965428e-04\n",
      " 4.08968560e-04 4.07450839e-04 4.03172677e-04 4.01935706e-04\n",
      " 4.01102361e-04 4.00575828e-04 3.98303486e-04 3.95008585e-04\n",
      " 3.92228147e-04 3.89561518e-04 3.88735059e-04 3.86917696e-04\n",
      " 3.84699722e-04 3.81535169e-04 3.80216699e-04 3.77088965e-04\n",
      " 3.75557536e-04 3.73102653e-04 3.71043394e-04 3.69018295e-04\n",
      " 3.66643492e-04 3.65883911e-04 3.62272755e-04 3.59408337e-04\n",
      " 3.58721443e-04 3.55342932e-04 3.52294194e-04 3.50456181e-04\n",
      " 3.49019425e-04 3.46759716e-04 3.45559315e-04 3.44366316e-04\n",
      " 3.41541184e-04 3.39770453e-04 3.35915210e-04 3.34537920e-04\n",
      " 3.32489576e-04 3.29825119e-04 3.28720728e-04 3.27142108e-04\n",
      " 3.25027775e-04 3.23642568e-04 3.23462258e-04 3.19334051e-04\n",
      " 3.17515106e-04 3.16089314e-04 3.14917173e-04 3.13057838e-04\n",
      " 3.10195576e-04 3.08223347e-04 3.07453883e-04 3.06555314e-04\n",
      " 3.05495408e-04 3.04508798e-04 3.00632372e-04 2.97317850e-04\n",
      " 2.95370683e-04 2.92699504e-04 2.91985399e-04 2.90593213e-04\n",
      " 2.89647905e-04 2.87629429e-04 2.85354416e-04 2.85184571e-04\n",
      " 2.83231527e-04 2.82457534e-04 2.80440158e-04 2.78981083e-04\n",
      " 2.76903205e-04 2.76047213e-04 2.74002445e-04 2.71730234e-04\n",
      " 2.70088862e-04 2.66713875e-04 2.65572744e-04 2.64804771e-04\n",
      " 2.63170827e-04 2.61364742e-04 2.59657920e-04 2.58600869e-04\n",
      " 2.57486280e-04 2.56579353e-04 2.55204892e-04 2.52173344e-04\n",
      " 2.50665517e-04 2.49466286e-04 2.48500937e-04 2.46760211e-04\n",
      " 2.45780683e-04 2.44470285e-04 2.44283464e-04 2.41747244e-04\n",
      " 2.41190250e-04 2.39142392e-04 2.38400463e-04 2.36428845e-04\n",
      " 2.35735510e-04 2.33501997e-04 2.32267070e-04 2.31068227e-04\n",
      " 2.29799875e-04 2.28188711e-04 2.28079839e-04 2.26946166e-04\n",
      " 2.24564114e-04 2.22878251e-04 2.22484666e-04 2.20433150e-04\n",
      " 2.19683493e-04 2.18576904e-04 2.17647202e-04 2.16430180e-04\n",
      " 2.16091863e-04 2.14875058e-04 2.13335137e-04 2.12889906e-04\n",
      " 2.10536753e-04 2.09863200e-04 2.09534933e-04 2.08110635e-04\n",
      " 2.07038514e-04 2.06141997e-04 2.04516714e-04 2.03164246e-04\n",
      " 2.01928393e-04 2.00820826e-04 2.00284009e-04 1.98569820e-04\n",
      " 1.97472073e-04 1.96874687e-04 1.94893842e-04 1.93846036e-04\n",
      " 1.93626261e-04 1.90776509e-04 1.90432793e-04 1.89705065e-04\n",
      " 1.89251220e-04 1.88488403e-04 1.87938004e-04 1.86799223e-04\n",
      " 1.84568182e-04 1.81886257e-04 1.81451886e-04 1.81016269e-04\n",
      " 1.80549888e-04 1.79161477e-04 1.78879914e-04 1.76313092e-04\n",
      " 1.75412905e-04 1.75169022e-04 1.73838680e-04 1.72917500e-04\n",
      " 1.71678331e-04 1.71159730e-04 1.69720051e-04 1.69184998e-04\n",
      " 1.68361996e-04 1.67117406e-04 1.66717753e-04 1.65684996e-04\n",
      " 1.63390768e-04 1.62463674e-04 1.61494996e-04 1.60573598e-04\n",
      " 1.58952894e-04 1.57695089e-04 1.57599338e-04 1.55474205e-04\n",
      " 1.54671706e-04 1.52811717e-04 1.52211285e-04 1.51041145e-04\n",
      " 1.50222539e-04 1.48891407e-04 1.48263858e-04 1.46745032e-04\n",
      " 1.46353819e-04 1.45883644e-04 1.43839684e-04 1.43633158e-04\n",
      " 1.42593803e-04 1.42222936e-04 1.40947142e-04 1.40117835e-04\n",
      " 1.39291133e-04 1.38747378e-04 1.37552717e-04 1.36218434e-04\n",
      " 1.35517225e-04 1.33857507e-04 1.33761918e-04 1.31575371e-04\n",
      " 1.31029700e-04 1.30160526e-04 1.29967604e-04 1.27472985e-04\n",
      " 1.27114080e-04 1.26235851e-04 1.24839441e-04 1.23757511e-04\n",
      " 1.23363779e-04 1.22488624e-04 1.21419012e-04 1.20971696e-04\n",
      " 1.19739393e-04 1.18993648e-04 1.17683452e-04 1.16514011e-04\n",
      " 1.15412810e-04 1.13744097e-04 1.12032531e-04 1.11689353e-04\n",
      " 1.10571088e-04 1.10419302e-04 1.09920950e-04 1.07866220e-04\n",
      " 1.06734632e-04 1.06195861e-04 1.05119226e-04 1.03419811e-04\n",
      " 1.02233014e-04 1.00618807e-04 9.96989511e-05 9.84886305e-05\n",
      " 9.73813916e-05 9.65960291e-05 9.53871125e-05 9.40874087e-05\n",
      " 9.21268603e-05 9.16915795e-05 9.09774218e-05 9.04383446e-05\n",
      " 8.94699463e-05 8.91187942e-05 8.83162096e-05 8.55259822e-05\n",
      " 8.38832062e-05 8.32485661e-05 8.22212583e-05 8.12173416e-05\n",
      " 7.96614287e-05 7.81495369e-05 7.62059187e-05 7.29315604e-05\n",
      " 7.24913638e-05 7.19583474e-05 6.92084538e-05 6.86189076e-05\n",
      " 6.78784720e-05 6.68253293e-05 6.30866949e-05 6.14616818e-05\n",
      " 6.02167837e-05 5.48952205e-05 5.45654714e-05 4.44161564e-05\n",
      " 3.89546446e-05 3.17649220e-05 1.96528064e-05 6.20759327e-06\n",
      " 1.32629359e-06 1.13559262e-30]\n"
     ]
    },
    {
     "data": {
      "text/plain": [
       "(0.0, 5.0)"
      ]
     },
     "execution_count": 15,
     "metadata": {},
     "output_type": "execute_result"
    },
    {
     "data": {
      "image/png": "[encoded data removed]",
      "text/plain": [
       "<Figure size 432x288 with 1 Axes>"
      ]
     },
     "metadata": {
      "needs_background": "light"
     },
     "output_type": "display_data"
    }
   ],
   "source": [
    "# Your code here\n",
    "\n",
    "from sklearn.decomposition import PCA\n",
    "explainedratio=PCA().fit(X).explained_variance_ratio_\n",
    "print(explainedratio)\n",
    "\n",
    "plt.xlabel('The $i-$th component')\n",
    "plt.ylabel('Ratio of explained variance')\n",
    "i_component=[i for i in range(X.shape[0])]\n",
    "plt.scatter(i_component, explainedratio)\n",
    "plt.xlim([0, 5]) #therefore we take n-component as 2\n",
    "\n",
    "\n"
   ]
  },
  {
   "cell_type": "code",
   "execution_count": 16,
   "metadata": {},
   "outputs": [],
   "source": [
    "projected_X_train = PCA(n_components=2).fit_transform(X_train)\n",
    "projected_X_test = PCA(n_components=2).fit_transform(X_test)"
   ]
  },
  {
   "cell_type": "markdown",
   "metadata": {},
   "source": [
    "## Question 2.2 Binary Image Classification -- 15 pts\n",
    "\n",
    "In this question, you will need to find the most suitable machine learning models (as well as hyper-parameters) implemented in <code>Scikit-learn</code>, for example, fit on the projected training data and labels, then predict on the projected test data. The accuracy score determines the accuracy your model prediction.\n",
    "\n",
    "**Hint:** here are some links for implemented machine learning models in Scikit-learn.\n",
    "\n",
    "- SVM: [link](https://scikit-learn.org/stable/modules/svm.html)\n",
    "\n",
    "- Gaussian Naive Bayes: [link](https://scikit-learn.org/stable/modules/generated/sklearn.naive_bayes.GaussianNB.html#sklearn.naive_bayes.GaussianNB)\n",
    "\n",
    "- A toy example about classifier comparisons: [link](https://scikit-learn.org/stable/auto_examples/classification/plot_classifier_comparison.html#sphx-glr-auto-examples-classification-plot-classifier-comparison-py)\n",
    "\n",
    "- If you are unsure about hyperparameter selection, you may find [grid-search](https://scikit-learn.org/stable/modules/grid_search.html#exhaustive-grid-search) helpful.\n",
    "\n",
    "- To achieve a high accuracy score, simply adopting PCA for feature extraction may not work. You may need to find some advanced feature extractor to reach a much better performance, i.e., >80%.\n"
   ]
  },
  {
   "cell_type": "code",
   "execution_count": 17,
   "metadata": {},
   "outputs": [],
   "source": [
    "# import numpy as np\n",
    "# import matplotlib.pyplot as plt\n",
    "# from matplotlib.colors import ListedColormap\n",
    "# from sklearn.model_selection import train_test_split\n",
    "# from sklearn.preprocessing import StandardScaler\n",
    "# from sklearn.datasets import make_moons, make_circles, make_classification\n",
    "# from sklearn.neural_network import MLPClassifier\n",
    "# from sklearn.neighbors import KNeighborsClassifier\n",
    "# from sklearn.svm import SVC\n",
    "# from sklearn.gaussian_process import GaussianProcessClassifier\n",
    "# from sklearn.gaussian_process.kernels import RBF\n",
    "# from sklearn.tree import DecisionTreeClassifier\n",
    "# from sklearn.ensemble import RandomForestClassifier, AdaBoostClassifier\n",
    "# from sklearn.naive_bayes import GaussianNB\n",
    "# from sklearn.discriminant_analysis import QuadraticDiscriminantAnalysis\n",
    "\n",
    "# h = 0.02  # step size in the mesh\n",
    "\n",
    "# names = [\n",
    "#     \"Nearest Neighbors\",\n",
    "#     \"Linear SVM\",\n",
    "#     \"RBF SVM\",\n",
    "#     \"Gaussian Process\",\n",
    "#     \"Decision Tree\",\n",
    "#     \"Random Forest\",\n",
    "#     \"Neural Net\",\n",
    "#     \"AdaBoost\",\n",
    "#     \"Naive Bayes\",\n",
    "#     \"QDA\",\n",
    "# ]\n",
    "\n",
    "# classifiers = [\n",
    "#     KNeighborsClassifier(3),\n",
    "#     SVC(kernel=\"linear\", C=0.025),\n",
    "#     SVC(gamma=2, C=1),\n",
    "#     GaussianProcessClassifier(1.0 * RBF(1.0)),\n",
    "#     DecisionTreeClassifier(max_depth=5),\n",
    "#     RandomForestClassifier(max_depth=5, n_estimators=10, max_features=1),\n",
    "#     MLPClassifier(alpha=1, max_iter=1000),\n",
    "#     AdaBoostClassifier(),\n",
    "#     GaussianNB(),\n",
    "#     QuadraticDiscriminantAnalysis(),\n",
    "# ]\n",
    "\n",
    "# X, y = make_classification(\n",
    "#     n_features=2, n_redundant=0, n_informative=2, random_state=1, n_clusters_per_class=1\n",
    "# )\n",
    "# rng = np.random.RandomState(2)\n",
    "# X += 2 * rng.uniform(size=X.shape)\n",
    "# linearly_separable = (X, y)\n",
    "\n",
    "# datasets = [\n",
    "#     make_moons(noise=0.3, random_state=0),\n",
    "#     make_circles(noise=0.2, factor=0.5, random_state=1),\n",
    "#     linearly_separable,\n",
    "# ]\n",
    "\n",
    "# figure = plt.figure(figsize=(27, 9))\n",
    "# i = 1\n",
    "# # iterate over datasets\n",
    "# for ds_cnt, ds in enumerate(datasets):\n",
    "#     # preprocess dataset, split into training and test part\n",
    "\n",
    "#     X_train, X_test, y_train, y_test = projected_X_train,projected_X_test,y_train,y_test\n",
    "\n",
    "#     x_min, x_max = X[:, 0].min() - 0.5, X[:, 0].max() + 0.5\n",
    "#     y_min, y_max = X[:, 1].min() - 0.5, X[:, 1].max() + 0.5\n",
    "#     xx, yy = np.meshgrid(np.arange(x_min, x_max, h), np.arange(y_min, y_max, h))\n",
    "\n",
    "#     # just plot the dataset first\n",
    "#     cm = plt.cm.RdBu\n",
    "#     cm_bright = ListedColormap([\"#FF0000\", \"#0000FF\"])\n",
    "#     ax = plt.subplot(len(datasets), len(classifiers) + 1, i)\n",
    "#     if ds_cnt == 0:\n",
    "#         ax.set_title(\"Input data\")\n",
    "#     # Plot the training points\n",
    "#     ax.scatter(X_train[:, 0], X_train[:, 1], c=y_train, cmap=cm_bright, edgecolors=\"k\")\n",
    "#     # Plot the testing points\n",
    "#     ax.scatter(\n",
    "#         X_test[:, 0], X_test[:, 1], c=y_test, cmap=cm_bright, alpha=0.6, edgecolors=\"k\"\n",
    "#     )\n",
    "#     ax.set_xlim(xx.min(), xx.max())\n",
    "#     ax.set_ylim(yy.min(), yy.max())\n",
    "#     ax.set_xticks(())\n",
    "#     ax.set_yticks(())\n",
    "#     i += 1\n",
    "\n",
    "#     # iterate over classifiers\n",
    "#     for name, clf in zip(names, classifiers):\n",
    "#         ax = plt.subplot(len(datasets), len(classifiers) + 1, i)\n",
    "#         clf.fit(X_train, y_train)\n",
    "#         score = clf.score(X_test, y_test)\n",
    "\n",
    "#         # Plot the decision boundary. For that, we will assign a color to each\n",
    "#         # point in the mesh [x_min, x_max]x[y_min, y_max].\n",
    "#         if hasattr(clf, \"decision_function\"):\n",
    "#             Z = clf.decision_function(np.c_[xx.ravel(), yy.ravel()])\n",
    "#         else:\n",
    "#             Z = clf.predict_proba(np.c_[xx.ravel(), yy.ravel()])[:, 1]\n",
    "\n",
    "#         # Put the result into a color plot\n",
    "#         Z = Z.reshape(xx.shape)\n",
    "#         ax.contourf(xx, yy, Z, cmap=cm, alpha=0.8)\n",
    "\n",
    "#         # Plot the training points\n",
    "#         ax.scatter(\n",
    "#             X_train[:, 0], X_train[:, 1], c=y_train, cmap=cm_bright, edgecolors=\"k\"\n",
    "#         )\n",
    "#         # Plot the testing points\n",
    "#         ax.scatter(\n",
    "#             X_test[:, 0],\n",
    "#             X_test[:, 1],\n",
    "#             c=y_test,\n",
    "#             cmap=cm_bright,\n",
    "#             edgecolors=\"k\",\n",
    "#             alpha=0.6,\n",
    "#         )\n",
    "\n",
    "#         ax.set_xlim(xx.min(), xx.max())\n",
    "#         ax.set_ylim(yy.min(), yy.max())\n",
    "#         ax.set_xticks(())\n",
    "#         ax.set_yticks(())\n",
    "#         if ds_cnt == 0:\n",
    "#             ax.set_title(name)\n",
    "#         ax.text(\n",
    "#             xx.max() - 0.3,\n",
    "#             yy.min() + 0.3,\n",
    "#             score,\n",
    "#             size=15,\n",
    "#             horizontalalignment=\"right\",\n",
    "#         )\n",
    "#         i += 1\n",
    "\n",
    "# plt.tight_layout()\n",
    "# plt.show()"
   ]
  },
  {
   "cell_type": "code",
   "execution_count": 18,
   "metadata": {},
   "outputs": [],
   "source": [
    "# import numpy as np\n",
    "# import matplotlib.pyplot as plt\n",
    "# from matplotlib.colors import ListedColormap\n",
    "# from sklearn.model_selection import train_test_split\n",
    "# from sklearn.preprocessing import StandardScaler\n",
    "# from sklearn.datasets import make_moons, make_circles, make_classification\n",
    "# from sklearn.neural_network import MLPClassifier\n",
    "# from sklearn.neighbors import KNeighborsClassifier\n",
    "# from sklearn.svm import SVC\n",
    "# from sklearn.gaussian_process import GaussianProcessClassifier\n",
    "# from sklearn.gaussian_process.kernels import RBF\n",
    "# from sklearn.tree import DecisionTreeClassifier\n",
    "# from sklearn.ensemble import RandomForestClassifier, AdaBoostClassifier\n",
    "# from sklearn.naive_bayes import GaussianNB\n",
    "# from sklearn.discriminant_analysis import QuadraticDiscriminantAnalysis\n",
    "\n",
    "# h = 0.02  # step size in the mesh\n",
    "\n",
    "# names = [\n",
    "#     \"Nearest Neighbors\",\n",
    "#     \"Linear SVM\",\n",
    "#     \"RBF SVM\",\n",
    "#     \"Gaussian Process\",\n",
    "#     \"Decision Tree\",\n",
    "#     \"Random Forest\",\n",
    "#     \"Neural Net\",\n",
    "#     \"AdaBoost\",\n",
    "#     \"Naive Bayes\",\n",
    "#     \"QDA\",\n",
    "# ]\n",
    "\n",
    "# classifiers = [\n",
    "#     KNeighborsClassifier(3),\n",
    "#     SVC(kernel=\"linear\", C=0.025),\n",
    "#     SVC(gamma=2, C=1),\n",
    "#     GaussianProcessClassifier(1.0 * RBF(1.0)),\n",
    "#     DecisionTreeClassifier(max_depth=5),\n",
    "#     RandomForestClassifier(max_depth=5, n_estimators=10, max_features=1),\n",
    "#     MLPClassifier(alpha=1, max_iter=1000),\n",
    "#     AdaBoostClassifier(),\n",
    "#     GaussianNB(),\n",
    "#     QuadraticDiscriminantAnalysis(),\n",
    "# ]\n",
    "\n",
    "# X, y = make_classification(\n",
    "#     n_features=2, n_redundant=0, n_informative=2, random_state=1, n_clusters_per_class=1\n",
    "# )\n",
    "# rng = np.random.RandomState(2)\n",
    "# X += 2 * rng.uniform(size=X.shape)\n",
    "# linearly_separable = (X, y)\n",
    "\n",
    "# datasets = [\n",
    "#     make_moons(noise=0.3, random_state=0),\n",
    "#     make_circles(noise=0.2, factor=0.5, random_state=1),\n",
    "#     linearly_separable,\n",
    "# ]\n",
    "\n",
    "# figure = plt.figure(figsize=(27, 9))\n",
    "# i = 1\n",
    "# # iterate over datasets\n",
    "# for ds_cnt, ds in enumerate(datasets):\n",
    "#     # preprocess dataset, split into training and test part\n",
    "\n",
    "#     X_train, X_test, y_train, y_test = X_train,X_test,y_train,y_test\n",
    "\n",
    "#     x_min, x_max = X[:, 0].min() - 0.5, X[:, 0].max() + 0.5\n",
    "#     y_min, y_max = X[:, 1].min() - 0.5, X[:, 1].max() + 0.5\n",
    "#     xx, yy = np.meshgrid(np.arange(x_min, x_max, h), np.arange(y_min, y_max, h))\n",
    "\n",
    "#     # just plot the dataset first\n",
    "#     cm = plt.cm.RdBu\n",
    "#     cm_bright = ListedColormap([\"#FF0000\", \"#0000FF\"])\n",
    "#     ax = plt.subplot(len(datasets), len(classifiers) + 1, i)\n",
    "#     if ds_cnt == 0:\n",
    "#         ax.set_title(\"Input data\")\n",
    "#     # Plot the training points\n",
    "#     ax.scatter(X_train[:, 0], X_train[:, 1], c=y_train, cmap=cm_bright, edgecolors=\"k\")\n",
    "#     # Plot the testing points\n",
    "#     ax.scatter(\n",
    "#         X_test[:, 0], X_test[:, 1], c=y_test, cmap=cm_bright, alpha=0.6, edgecolors=\"k\"\n",
    "#     )\n",
    "#     ax.set_xlim(xx.min(), xx.max())\n",
    "#     ax.set_ylim(yy.min(), yy.max())\n",
    "#     ax.set_xticks(())\n",
    "#     ax.set_yticks(())\n",
    "#     i += 1\n",
    "\n",
    "#     # iterate over classifiers\n",
    "#     for name, clf in zip(names, classifiers):\n",
    "#         ax = plt.subplot(len(datasets), len(classifiers) + 1, i)\n",
    "#         clf.fit(X_train, y_train)\n",
    "#         score = clf.score(X_test, y_test)\n",
    "\n",
    "#         # Plot the decision boundary. For that, we will assign a color to each\n",
    "#         # point in the mesh [x_min, x_max]x[y_min, y_max].\n",
    "#         if hasattr(clf, \"decision_function\"):\n",
    "#             Z = clf.decision_function(np.c_[xx.ravel(), yy.ravel()])\n",
    "#         else:\n",
    "#             Z = clf.predict_proba(np.c_[xx.ravel(), yy.ravel()])[:, 1]\n",
    "\n",
    "#         # Put the result into a color plot\n",
    "#         Z = Z.reshape(xx.shape)\n",
    "#         ax.contourf(xx, yy, Z, cmap=cm, alpha=0.8)\n",
    "\n",
    "#         # Plot the training points\n",
    "#         ax.scatter(\n",
    "#             X_train[:, 0], X_train[:, 1], c=y_train, cmap=cm_bright, edgecolors=\"k\"\n",
    "#         )\n",
    "#         # Plot the testing points\n",
    "#         ax.scatter(\n",
    "#             X_test[:, 0],\n",
    "#             X_test[:, 1],\n",
    "#             c=y_test,\n",
    "#             cmap=cm_bright,\n",
    "#             edgecolors=\"k\",\n",
    "#             alpha=0.6,\n",
    "#         )\n",
    "\n",
    "#         ax.set_xlim(xx.min(), xx.max())\n",
    "#         ax.set_ylim(yy.min(), yy.max())\n",
    "#         ax.set_xticks(())\n",
    "#         ax.set_yticks(())\n",
    "#         if ds_cnt == 0:\n",
    "#             ax.set_title(name)\n",
    "#         ax.text(\n",
    "#             xx.max() - 0.3,\n",
    "#             yy.min() + 0.3,\n",
    "# #             (\"%.2f\" % score).lstrip(\"0\"),\n",
    "#             score,\n",
    "#             size=15,\n",
    "#             horizontalalignment=\"right\",\n",
    "#         )\n",
    "#         i += 1\n",
    "\n",
    "# plt.tight_layout()\n",
    "# plt.show()"
   ]
  },
  {
   "cell_type": "code",
   "execution_count": 19,
   "metadata": {},
   "outputs": [],
   "source": [
    "# from sklearn import svm\n",
    "# from sklearn.model_selection import GridSearchCV\n",
    "# param_grid={'C':[0.1,1,10,100],'gamma':[0.0001,0.001,0.1,1],'kernel':['rbf','poly']}\n",
    "# svc=svm.SVC(probability=True)\n",
    "# model=GridSearchCV(svc,param_grid)\n",
    "# # X_train, X_test, y_train, y_test = X_train,X_test,y_train,y_test\n",
    "# x_train,x_test,y_train,y_test=X_train,X_test,y_train,y_test\n",
    "\n",
    "# model.fit(x_train,y_train)\n",
    "\n",
    "# y_pred=model.predict(x_test)\n",
    "# print(\"The predicted Data is :\")\n",
    "# print(y_pred)\n",
    "# print(\"The actual data is:\")\n",
    "# print(np.array(y_test))\n",
    "# print(f\"The model is {accuracy_score(y_pred,y_test)*100}% accurate\")\n",
    "# # model.best_params_ contains the best parameters obtained from GridSearchCV"
   ]
  },
  {
   "cell_type": "code",
   "execution_count": null,
   "metadata": {},
   "outputs": [],
   "source": [
    "from sklearn import svm\n",
    "from sklearn.model_selection import GridSearchCV\n",
    "param_grid={'C':[0.1,1,10,100],'gamma':[0.0001,0.001,0.1,1],'kernel':['rbf','poly']}\n",
    "svc=svm.SVC(probability=True)\n",
    "model=GridSearchCV(svc,param_grid,n_jobs=-1)\n",
    "# X_train, X_test, y_train, y_test = X_train,X_test,y_train,y_test\n",
    "x_train,x_test,y_train,y_test=projected_X_train,projected_X_test,y_train,y_test\n",
    "\n",
    "model.fit(x_train,y_train)\n",
    "\n",
    "y_pred=model.predict(x_test)\n",
    "print(\"The predicted Data is :\")\n",
    "print(y_pred)\n",
    "print(\"The actual data is:\")\n",
    "print(np.array(y_test))\n",
    "print(f\"The model is {accuracy_score(y_pred,y_test)*100}% accurate\")\n",
    "# model.best_params_ contains the best parameters obtained from GridSearchCV"
   ]
  },
  {
   "cell_type": "code",
   "execution_count": null,
   "metadata": {},
   "outputs": [],
   "source": [
    "# Your code here\n",
    "\n",
    "\n",
    "\n",
    "# Evaluation (suppose your model prediction on X_test is y_pred)\n",
    "print(f\"Accuracy: {accuracy_score(y_test, y_pred)}\")"
   ]
  },
  {
   "cell_type": "code",
   "execution_count": null,
   "metadata": {},
   "outputs": [],
   "source": []
  },
  {
   "cell_type": "code",
   "execution_count": null,
   "metadata": {},
   "outputs": [],
   "source": []
  },
  {
   "cell_type": "code",
   "execution_count": null,
   "metadata": {},
   "outputs": [],
   "source": []
  },
  {
   "cell_type": "markdown",
   "metadata": {},
   "source": [
    "## Leaderboard\n",
    "\n",
    "Depending on your best achieved accuracy score, the remaining points and bonus points are organized as below:\n",
    "\n",
    "- **Accuracy score > 98%:** 10 pts + **10 bonus pts**\n",
    "\n",
    "- **Accuracy score 96-98%:** 10 pts + **8 bonus pts**\n",
    "\n",
    "- **Accuracy score 94-96%:** 10 pts + **6 bonus pts**\n",
    "\n",
    "- **Accuracy score 92-94%:** 10 pts + **4 bonus pts**\n",
    "\n",
    "- **Accuracy score 90-92%:** 10 pts + **2 bonus pts**\n",
    "\n",
    "- **Accuracy score 80-90%:** 10 pts\n",
    "\n",
    "- **Accuracy score 70-80%:** 8 pts\n",
    "\n",
    "- **Accuracy score 61-70%:** 6 pts\n",
    "\n",
    "- **Accuracy score 58-61%:** 4 pts\n",
    "\n",
    "- **Accuracy score 55-58%:** 2 pts\n",
    "\n",
    "- **Accuracy score < 55%:** 0 pts \n"
   ]
  }
 ],
 "metadata": {
  "kernelspec": {
   "display_name": "Python 3",
   "language": "python",
   "name": "python3"
  },
  "language_info": {
   "codemirror_mode": {
    "name": "ipython",
    "version": 3
   },
   "file_extension": ".py",
   "mimetype": "text/x-python",
   "name": "python",
   "nbconvert_exporter": "python",
   "pygments_lexer": "ipython3",
   "version": "3.8.5"
  }
 },
 "nbformat": 4,
 "nbformat_minor": 5
}
